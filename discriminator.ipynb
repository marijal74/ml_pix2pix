{
 "cells": [
  {
   "cell_type": "code",
   "execution_count": 1,
   "metadata": {},
   "outputs": [],
   "source": [
    "import torch.nn as nn\n",
    "import torch"
   ]
  },
  {
   "cell_type": "code",
   "execution_count": 14,
   "metadata": {},
   "outputs": [],
   "source": [
    "class Discriminator(nn.Module):\n",
    "    def __init__(self, num_channels):\n",
    "        super(Discriminator, self).__init__()\n",
    "        final = [\n",
    "            nn.Conv2d(512, 1, kernel_size=4, stride=1, padding=1),\n",
    "            nn.Sigmoid()\n",
    "            ]\n",
    "        self.model = nn.Sequential(\n",
    "            *Discriminator.__get_layer__(input=2*num_channels, out=64, batch_norm=False),\n",
    "            *Discriminator.__get_layer__(input=64, out=128),\n",
    "            *Discriminator.__get_layer__(input=128, out=256),\n",
    "            *Discriminator.__get_layer__(input=256, out=512),\n",
    "            *final\n",
    "        )\n",
    "    @staticmethod\n",
    "    def __get_layer__(input, out, batch_norm = True):\n",
    "        layer = [\n",
    "            nn.Conv2d(in_channels=input, out_channels=out, kernel_size=4 , stride=2, padding=1)\n",
    "        ]\n",
    "        if batch_norm:\n",
    "            layer.append(nn.BatchNorm2d(out))\n",
    "        layer.append(nn.LeakyReLU(0.2, True))\n",
    "        return layer\n",
    "    \n",
    "    def forward(self, x, y):\n",
    "        img = torch.cat((x, y), 1)\n",
    "        return self.model(img)"
   ]
  },
  {
   "cell_type": "code",
   "execution_count": 15,
   "metadata": {},
   "outputs": [],
   "source": [
    "img1 = torch.randn((1,3, 256, 256))\n",
    "img2 = torch.randn((1, 3, 256, 256))\n",
    "\n",
    "patch_gan = Discriminator(num_channels=3)\n",
    "output = patch_gan(img1, img2)"
   ]
  },
  {
   "cell_type": "code",
   "execution_count": 16,
   "metadata": {},
   "outputs": [
    {
     "data": {
      "text/plain": [
       "tensor([[[[0.4036, 0.6132, 0.4998, 0.5300, 0.4537, 0.4514, 0.5188, 0.5621,\n",
       "           0.4457, 0.5408, 0.5318, 0.6400, 0.5848, 0.5604, 0.4199],\n",
       "          [0.4678, 0.4430, 0.4779, 0.6826, 0.5238, 0.5069, 0.5166, 0.7046,\n",
       "           0.5179, 0.5952, 0.4643, 0.4126, 0.5965, 0.5129, 0.5570],\n",
       "          [0.6604, 0.6185, 0.3650, 0.6708, 0.5695, 0.5298, 0.3956, 0.4805,\n",
       "           0.6111, 0.6504, 0.6385, 0.5921, 0.6212, 0.4925, 0.6241],\n",
       "          [0.4215, 0.4674, 0.4605, 0.5745, 0.6112, 0.5112, 0.6797, 0.6332,\n",
       "           0.3593, 0.5927, 0.7339, 0.6391, 0.5455, 0.3463, 0.6161],\n",
       "          [0.4309, 0.4570, 0.3709, 0.5365, 0.3193, 0.4391, 0.5782, 0.5844,\n",
       "           0.6096, 0.5631, 0.6432, 0.5907, 0.5537, 0.5342, 0.5293],\n",
       "          [0.5860, 0.5246, 0.5245, 0.3016, 0.4829, 0.5040, 0.4897, 0.6082,\n",
       "           0.6044, 0.5403, 0.4087, 0.3807, 0.4591, 0.6457, 0.5147],\n",
       "          [0.4443, 0.3773, 0.5587, 0.5792, 0.5193, 0.5986, 0.5971, 0.4880,\n",
       "           0.6743, 0.4909, 0.6089, 0.4673, 0.5567, 0.6224, 0.5181],\n",
       "          [0.4916, 0.4189, 0.4455, 0.5348, 0.3693, 0.4941, 0.4286, 0.6147,\n",
       "           0.4919, 0.4418, 0.4915, 0.4956, 0.5874, 0.5010, 0.5659],\n",
       "          [0.5512, 0.5338, 0.4474, 0.6220, 0.4539, 0.5468, 0.6947, 0.3886,\n",
       "           0.6874, 0.6025, 0.5969, 0.4976, 0.5663, 0.7779, 0.5139],\n",
       "          [0.4969, 0.6185, 0.4568, 0.4438, 0.6391, 0.4745, 0.3346, 0.5620,\n",
       "           0.5656, 0.6725, 0.5352, 0.5449, 0.4122, 0.5193, 0.5932],\n",
       "          [0.4594, 0.4766, 0.5782, 0.6320, 0.4105, 0.6755, 0.4208, 0.4714,\n",
       "           0.6279, 0.5780, 0.6101, 0.5394, 0.4479, 0.5488, 0.5803],\n",
       "          [0.4687, 0.4802, 0.5877, 0.6296, 0.5312, 0.5119, 0.5146, 0.4817,\n",
       "           0.6478, 0.4062, 0.5521, 0.6902, 0.5870, 0.5887, 0.5330],\n",
       "          [0.6124, 0.3563, 0.6733, 0.5794, 0.6147, 0.5118, 0.5765, 0.5334,\n",
       "           0.5399, 0.6494, 0.4786, 0.4835, 0.5401, 0.5194, 0.5399],\n",
       "          [0.3935, 0.5639, 0.5687, 0.6078, 0.6742, 0.5450, 0.6383, 0.4450,\n",
       "           0.4942, 0.5609, 0.3200, 0.5576, 0.4333, 0.4611, 0.6640],\n",
       "          [0.5126, 0.6479, 0.5551, 0.4358, 0.5151, 0.3892, 0.6413, 0.5969,\n",
       "           0.5644, 0.5114, 0.5491, 0.5132, 0.4930, 0.5544, 0.4570]]]],\n",
       "       grad_fn=<SigmoidBackward0>)"
      ]
     },
     "execution_count": 16,
     "metadata": {},
     "output_type": "execute_result"
    }
   ],
   "source": [
    "output"
   ]
  },
  {
   "cell_type": "code",
   "execution_count": null,
   "metadata": {},
   "outputs": [],
   "source": []
  }
 ],
 "metadata": {
  "kernelspec": {
   "display_name": "Python 3",
   "language": "python",
   "name": "python3"
  },
  "language_info": {
   "codemirror_mode": {
    "name": "ipython",
    "version": 3
   },
   "file_extension": ".py",
   "mimetype": "text/x-python",
   "name": "python",
   "nbconvert_exporter": "python",
   "pygments_lexer": "ipython3",
   "version": "3.10.12"
  }
 },
 "nbformat": 4,
 "nbformat_minor": 2
}
