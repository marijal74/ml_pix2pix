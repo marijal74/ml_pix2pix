{
 "cells": [
  {
   "cell_type": "code",
   "execution_count": null,
   "metadata": {},
   "outputs": [],
   "source": [
    "import os\n",
    "import requests\n",
    "import matplotlib.pyplot as plt\n",
    "import tarfile\n",
    "import torch\n",
    "import shutil\n",
    "\n",
    "from enum import Enum\n",
    "from torch.utils.data import Dataset\n",
    "from torchvision.io import read_image\n",
    "from torchvision.transforms import v2"
   ]
  },
  {
   "cell_type": "code",
   "execution_count": null,
   "metadata": {},
   "outputs": [],
   "source": [
    "class Pix2PixDataset(Enum):\n",
    "        CITYSCAPES = 'cityscapes'\n",
    "        EDGES2HANDBAGS = 'edges2handbags'\n",
    "        EDGES2SHOES = 'edges2shoes'\n",
    "        FACADES = 'facades'\n",
    "        MAPS = 'maps'\n",
    "        NIGHT2DAY = 'night2day'\n",
    "        \n",
    "        def get_url(self):\n",
    "            return f'http://efrosgans.eecs.berkeley.edu/pix2pix/datasets/{self.value}.tar.gz'"
   ]
  },
  {
   "cell_type": "code",
   "execution_count": null,
   "metadata": {},
   "outputs": [],
   "source": [
    "class ImageDataset(Dataset):    \n",
    "    def __init__(self, dataset: Pix2PixDataset):\n",
    "        self.dataset = dataset\n",
    "        self.data_folder = './data'\n",
    "        self.preprocess = v2.Compose([\n",
    "            v2.Resize([286, 286]),\n",
    "            v2.RandomCrop([256, 256]),\n",
    "            v2.RandomHorizontalFlip(p=0.5),\n",
    "            v2.ToDtype(torch.float32, scale=True)])\n",
    "\n",
    "    @staticmethod\n",
    "    def __download_dataset__(url, dataset_path):\n",
    "        response = requests.get(url)\n",
    "        if not os.path.exists(dataset_path):\n",
    "            os.makedirs(dataset_path)\n",
    "        file_name = url.split('/')[-1]\n",
    "        dataset_path = os.path.join(dataset_path, file_name)\n",
    "        with open(dataset_path, 'wb') as f:\n",
    "            f.write(response.content)\n",
    "        return dataset_path\n",
    "    \n",
    "    @staticmethod\n",
    "    def __extract_dataset__(path, datafile):\n",
    "        with tarfile.open(datafile, 'r') as tar:\n",
    "            tar.extractall(path, filter='data')\n",
    "        os.remove(datafile)\n",
    "    \n",
    "    @staticmethod\n",
    "    def remove_dataset(path):\n",
    "        shutil.rmtree(path)\n",
    "\n",
    "    def load_dataset(self):\n",
    "        self.data_file = ImageDataset.__download_dataset__(self.dataset.get_url(), self.data_folder)\n",
    "        ImageDataset.__extract_dataset__(self.data_folder, self.data_file)\n",
    "\n",
    "    def get_image_paths(self, test = False, val = False):\n",
    "        path = self.data_folder + '/' + self.dataset.value\n",
    "        if test:\n",
    "            path += '/test'\n",
    "        else:\n",
    "            path += '/train'\n",
    "        if val:\n",
    "            path += '/val'\n",
    "        self.img_paths = []\n",
    "        for root, _, fnames in sorted(os.walk(path)):\n",
    "            for fname in fnames:\n",
    "                img_path = os.path.join(root, fname)\n",
    "                self.img_paths.append(img_path)\n",
    "    \n",
    "    def __getitem__(self,  index):\n",
    "        img_path = self.img_paths[index]\n",
    "        img = read_image(img_path)\n",
    "        _, h, w = img.size()\n",
    "        w2 = int(w/2)\n",
    "        x = self.preprocess(v2.functional.crop(img, 0, 0, w2, h))\n",
    "        y = self.preprocess(v2.functional.crop(img, 0, w2, w2, h))\n",
    "        return {'x':x, 'y':y}\n",
    "    \n",
    "    def __len__(self):\n",
    "        self.get_image_paths()\n",
    "        return len(self.img_paths)"
   ]
  },
  {
   "cell_type": "code",
   "execution_count": null,
   "metadata": {},
   "outputs": [],
   "source": []
  }
 ],
 "metadata": {
  "kernelspec": {
   "display_name": "Python 3",
   "language": "python",
   "name": "python3"
  },
  "language_info": {
   "codemirror_mode": {
    "name": "ipython",
    "version": 3
   },
   "file_extension": ".py",
   "mimetype": "text/x-python",
   "name": "python",
   "nbconvert_exporter": "python",
   "pygments_lexer": "ipython3",
   "version": "3.10.12"
  }
 },
 "nbformat": 4,
 "nbformat_minor": 2
}
