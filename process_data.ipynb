{
 "cells": [
  {
   "cell_type": "code",
   "execution_count": 1,
   "metadata": {},
   "outputs": [],
   "source": [
    "import os\n",
    "import pathlib\n",
    "import requests\n",
    "import matplotlib.pyplot as plt\n",
    "import tarfile\n",
    "import pandas as pd\n",
    "\n",
    "from enum import Enum\n",
    "from torch.utils.data import Dataset\n",
    "from torchvision.io import read_image"
   ]
  },
  {
   "cell_type": "code",
   "execution_count": 46,
   "metadata": {},
   "outputs": [],
   "source": [
    "def download_dataset(url, dataset_path):\n",
    "    response = requests.get(url)\n",
    "    if not os.path.exists(dataset_path):\n",
    "        os.makedirs(dataset_path)\n",
    "    file_name = url.split('/')[-1]\n",
    "    dataset_path = os.path.join(dataset_path, file_name)\n",
    "    with open(dataset_path, 'wb') as f:\n",
    "        f.write(response.content)\n",
    "    return dataset_path"
   ]
  },
  {
   "cell_type": "code",
   "execution_count": 20,
   "metadata": {},
   "outputs": [],
   "source": [
    "class Pix2PixDataset(Enum):\n",
    "        CITYSCAPES = 'cityscapes'\n",
    "        EDGES2HANDBAGS = 'edges2handbags'\n",
    "        EDGES2SHOES = 'edges2shoes'\n",
    "        FACADES = 'facades'\n",
    "        MAPS = 'maps'\n",
    "        NIGHT2DAY = 'night2day'\n",
    "        \n",
    "        def get_url(self):\n",
    "            return f'http://efrosgans.eecs.berkeley.edu/pix2pix/datasets/{self.value}.tar.gz'"
   ]
  },
  {
   "cell_type": "code",
   "execution_count": 33,
   "metadata": {},
   "outputs": [],
   "source": [
    "class ImageDataset(Dataset):    \n",
    "    def __init__(self, dataset: Pix2PixDataset):\n",
    "        self.data_folder = './data'\n",
    "        self.data_file = ImageDataset.download_dataset(dataset.get_url(), self.data_folder)\n",
    "        ImageDataset.extract_dataset(self.data_folder, self.data_file)\n",
    "\n",
    "    @staticmethod\n",
    "    def download_dataset(url, dataset_path):\n",
    "        response = requests.get(url)\n",
    "        if not os.path.exists(dataset_path):\n",
    "            os.makedirs(dataset_path)\n",
    "        file_name = url.split('/')[-1]\n",
    "        dataset_path = os.path.join(dataset_path, file_name)\n",
    "        with open(dataset_path, 'wb') as f:\n",
    "            f.write(response.content)\n",
    "        return dataset_path\n",
    "    \n",
    "    @staticmethod\n",
    "    def extract_dataset(path, datafile):\n",
    "        with tarfile.open(datafile, 'r') as tar:\n",
    "            tar.extractall(path, filter='data')\n",
    "        os.remove(datafile)\n",
    "    \n",
    "    @staticmethod\n",
    "    def remove_dataset(path):\n",
    "        os.rmdir(path)"
   ]
  },
  {
   "cell_type": "code",
   "execution_count": 34,
   "metadata": {},
   "outputs": [
    {
     "name": "stdout",
     "output_type": "stream",
     "text": [
      "<bound method Pix2PixDataset.get_url of <Pix2PixDataset.FACADES: 'facades'>>\n",
      "./data\n"
     ]
    }
   ],
   "source": [
    "dataset = ImageDataset(dataset=Pix2PixDataset.FACADES)"
   ]
  },
  {
   "cell_type": "code",
   "execution_count": null,
   "metadata": {},
   "outputs": [],
   "source": []
  }
 ],
 "metadata": {
  "kernelspec": {
   "display_name": "Python 3",
   "language": "python",
   "name": "python3"
  },
  "language_info": {
   "codemirror_mode": {
    "name": "ipython",
    "version": 3
   },
   "file_extension": ".py",
   "mimetype": "text/x-python",
   "name": "python",
   "nbconvert_exporter": "python",
   "pygments_lexer": "ipython3",
   "version": "3.10.12"
  }
 },
 "nbformat": 4,
 "nbformat_minor": 2
}
