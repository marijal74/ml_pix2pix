{
 "cells": [
  {
   "cell_type": "markdown",
   "metadata": {},
   "source": [
    "# pix2pix\n",
    "### Rešenje problema transformacije slike u sliku\n",
    "\n",
    "Problem transformacije slike u sliku je prisutan u mnogobrojnim problemima u procesiranju slika, računarskoj grafici i računarskom vidu (computer vision). Predstavlja transformaciju gde se slika prevodi iz jedne reprezentacije u drugu.\n",
    "\n",
    "Za izradu pix2pix modela korišćen je cGAN - conditional Generative Adversial Networks. \n",
    "\n",
    "Za razliku od klasičnih GAN-ova:\n",
    "- cGAN generiše slike na osnovu ulazne slike koja nije \"white-noise image\" i predstavlja početnu reprezentaciju slike\n",
    "- cGAN diskriminator upoređuje parove slika - par (generisana slika, ciljna slika) i (ulazna slika, ciljna slika)"
   ]
  },
  {
   "cell_type": "markdown",
   "metadata": {},
   "source": [
    "![Primeri parova iz skupova podataka korišćenih u originalnom radu](assets/image_pairs.png)"
   ]
  },
  {
   "cell_type": "markdown",
   "metadata": {},
   "source": [
    "### Funkcija greške\n",
    "$$G∗ = \\argmin_{G}\\max_{D} L_{cGAN} (G, D) + λL_{L1}(G)$$"
   ]
  },
  {
   "cell_type": "markdown",
   "metadata": {},
   "source": [
    "gde je $L_{cGAN}$:\n",
    "$$ L_{cGAN}(G, D) = E_{x,y} [log D(x, y)]+ E_{x,z} [log(1 − D(x, G(x, z))]$$"
   ]
  },
  {
   "cell_type": "markdown",
   "metadata": {},
   "source": [
    "(odnosno računa se greška u odnosu na ulaznu sliku )"
   ]
  },
  {
   "cell_type": "markdown",
   "metadata": {},
   "source": [
    "Parametar $\\lambda$ može imati vrednosti iz opsega [0, 100]. Za $\\lambda = 0$, funkcija greške računa samo grešku $L_{cGAN}$ i takav model proizvodi oštrije slike, ali unosi vizuelne defekte. Za $\\lambda = 1000$, smanjuju se vizuelni defekti.\n",
    "\n",
    "Kada bi se greška zasnivala samo na L1 normi, model bi generisao mutne slike. "
   ]
  },
  {
   "cell_type": "markdown",
   "metadata": {},
   "source": [
    "![title](assets/lambda.png)"
   ]
  },
  {
   "cell_type": "markdown",
   "metadata": {},
   "source": [
    "## Arhitektura modela\n",
    "### Diskriminator\n",
    "Diskriminator se sastoji od 5 slojeva:\n",
    "1. Conv2D, LeakyRelu\n",
    "2. Conv2D, BatchNorm, LeakyRelu\n",
    "3. Conv2D, BatchNorm, LeakyRelu\n",
    "4. Conv2D, BatchNorm, LeakyRelu\n",
    "5. Conv2D\n",
    "\n",
    "![discr](assets/discr_architecture.png)\n",
    "\n",
    "### Generator\n",
    "Generator ima enkoder-dekoder arhitekturu sa skip konekcijama (po ugledu na UNet).\n",
    "#### Enkoder\n",
    "1. Conv2D, LeakyRelu\n",
    "2. Conv2D, BatchNorm, LeakyRelu\n",
    "3. Conv2D, BatchNorm, LeakyRelu\n",
    "4. Conv2D, BatchNorm, LeakyRelu\n",
    "\n",
    "#### Dekoder\n",
    "1. ConvTranspose2d, BatchNorm2d, ReLU, Dropout\n",
    "2. ConvTranspose2d, BatchNorm2d, ReLU, Dropout\n",
    "3. ConvTranspose2d, BatchNorm2d, ReLU, Dropout\n",
    "4. ConvTranspose2d, BatchNorm2d, ReLU\n",
    "5. ConvTranspose2d, BatchNorm2d, ReLU\n",
    "6. ConvTranspose2d, BatchNorm2d, ReLU\n",
    "7. ConvTranspose2d, BatchNorm2d, ReLU\n",
    "8. ReLU, ConvTranspose2d, Tanh\n",
    "\n",
    "![gen](assets/gen_architecture.png)"
   ]
  },
  {
   "cell_type": "markdown",
   "metadata": {},
   "source": [
    "### Skip konekcije\n",
    "Problem u neuronskim mrežama jeste gubitak informacije kada podatak prolazi kroz mnogo slojeva. Ovo otežava učenje sitnih detalja. Skip konekcije direktno prosleđuju informacije od jednog sloja enkodera ka jednom sloju dekodera, zaobilazeći slojeve između njih. Na ovaj način se čuvaju informacije o detaljima. Eksperimentalno je dokazano da skip konekcije pomažu konvergenciji modela jer ublažuju problem nedostajućih gradijenata.\n",
    "Skip konekcije u pix2pix modelu povezuju sloj $i$ enkodera sa $n-i$ slojem dekodera i ostvaruje se konkatenacijom tenzora."
   ]
  },
  {
   "cell_type": "markdown",
   "metadata": {},
   "source": [
    "## Treniranje modela\n",
    "\n",
    "Treniranje modela je izvršeno u GoogleColab-u. Koriščen je T4 GPU. Treniranje je u proseku trajalo 2h za 400 slika iz facades skupa.\n",
    "\n",
    "Izazovi:\n",
    "- kreiranje skip konekcija (određivanje veličinu ulaza/izlaza sloja)\n",
    "- ograničeni resursi, učitavanje podataka bi pojelo dosta CPU resursa (sređeno povećanjem broja worker-a u dataloader-u)\n",
    "- ni jedan drugi skup nije iskorišćen zbog ograničenih resursa"
   ]
  },
  {
   "cell_type": "markdown",
   "metadata": {},
   "source": []
  }
 ],
 "metadata": {
  "language_info": {
   "name": "python"
  }
 },
 "nbformat": 4,
 "nbformat_minor": 2
}
