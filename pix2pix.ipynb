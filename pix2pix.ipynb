{
 "cells": [
  {
   "cell_type": "markdown",
   "metadata": {},
   "source": [
    "# pix2pix\n",
    "### Rešenje problema transformacije slike u sliku\n",
    "\n",
    "Problem transformacije slike u sliku je prisutan u mnogobrojnim problemima u procesiranju slika, računarskoj grafici i računarskom vidu (computer vision). Predstavlja transformaciju gde se slika prevodi iz jedne reprezentacije u drugu.\n",
    "\n",
    "Za izradu pix2pix modela korišćen je cGAN - conditional Generative Adversial Networks. \n",
    "\n",
    "Za razliku od klasičnih GAN-ova:\n",
    "- cGAN generiše slike na osnovu ulazne slike koja nije \"white-noise image\" i predstavlja početnu reprezentaciju slike\n",
    "- cGAN diskriminator upoređuje parove slika - par (generisana slika, ciljna slika) i (ulazna slika, ciljna slika)"
   ]
  },
  {
   "cell_type": "markdown",
   "metadata": {},
   "source": [
    "![Primeri parova iz skupova podataka korišćenih u originalnom radu](assets/image_pairs.png)"
   ]
  },
  {
   "cell_type": "markdown",
   "metadata": {},
   "source": [
    "### Funkcija greške\n",
    "$$G∗ = \\argmin_{G}\\max_{D} L_{cGAN} (G, D) + λL_{L1}(G)$$"
   ]
  },
  {
   "cell_type": "markdown",
   "metadata": {},
   "source": [
    "gde je $L_{cGAN}$:\n",
    "$$ L_{cGAN}(G, D) = E_{x,y} [log D(x, y)]+ E_{x,z} [log(1 − D(x, G(x, z))]$$"
   ]
  },
  {
   "cell_type": "markdown",
   "metadata": {},
   "source": [
    "(odnosno računa se greška u odnosu na ulaznu sliku )"
   ]
  },
  {
   "cell_type": "markdown",
   "metadata": {},
   "source": [
    "Parametar $\\lambda$ može imati vrednosti iz opsega [0, 100]. Za $\\lambda = 0$, funkcija greške računa samo grešku $L_{cGAN}$ i takav model proizvodi oštrije slike, ali unosi vizuelne defekte. Za $\\lambda = 1000$, smanjuju se vizuelni defekti.\n",
    "\n",
    "Kada bi se greška zasnivala samo na L1 normi, model bi generisao mutne slike. "
   ]
  },
  {
   "cell_type": "markdown",
   "metadata": {},
   "source": [
    "![title](assets/lambda.png)"
   ]
  },
  {
   "cell_type": "markdown",
   "metadata": {},
   "source": [
    "opis arhitekture diskriminatora"
   ]
  },
  {
   "cell_type": "markdown",
   "metadata": {},
   "source": [
    "opis arhitekture generatora"
   ]
  },
  {
   "cell_type": "markdown",
   "metadata": {},
   "source": [
    "skip konekcije"
   ]
  },
  {
   "cell_type": "markdown",
   "metadata": {},
   "source": [
    "treniranje i izazovi"
   ]
  },
  {
   "cell_type": "markdown",
   "metadata": {},
   "source": []
  }
 ],
 "metadata": {
  "language_info": {
   "name": "python"
  }
 },
 "nbformat": 4,
 "nbformat_minor": 2
}
