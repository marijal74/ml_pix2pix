{
 "cells": [
  {
   "cell_type": "code",
   "execution_count": 1,
   "metadata": {},
   "outputs": [],
   "source": [
    "import torch.nn as nn\n",
    "import torch"
   ]
  },
  {
   "cell_type": "markdown",
   "metadata": {},
   "source": [
    "# Arhitektura diskriminatora\n",
    "\n",
    "C64-C128-C256-C512 gde BatchNorm sloj nije primenjen nad prvim slojem."
   ]
  },
  {
   "cell_type": "code",
   "execution_count": 9,
   "metadata": {
    "metadata": {}
   },
   "outputs": [],
   "source": [
    "class Discriminator(nn.Module):\n",
    "    def __init__(self, num_channels):\n",
    "        super(Discriminator, self).__init__()\n",
    "        self.model = nn.Sequential(\n",
    "            *Discriminator.__get_layer__(input=2*num_channels, out=64, batch_norm=False),\n",
    "            *Discriminator.__get_layer__(input=64, out=128),\n",
    "            *Discriminator.__get_layer__(input=128, out=256),\n",
    "            *Discriminator.__get_layer__(input=256, out=512),\n",
    "            nn.Conv2d(512, 1, 4, padding=1, bias=False)\n",
    "        )\n",
    "    @staticmethod\n",
    "    def __get_layer__(input, out, batch_norm = True):\n",
    "        layer = [\n",
    "            nn.Conv2d(in_channels=input, out_channels=out, kernel_size=4 , stride=2, padding=1, bias=False)\n",
    "        ]\n",
    "        if batch_norm:\n",
    "            layer.append(nn.BatchNorm2d(out))\n",
    "        layer.append(nn.LeakyReLU(0.2, True))\n",
    "        return layer\n",
    "    \n",
    "    def forward(self, x, y):\n",
    "        img = torch.cat((x, y), 1)\n",
    "        return self.model(img)"
   ]
  },
  {
   "cell_type": "code",
   "execution_count": 10,
   "metadata": {
    "metadata": {}
   },
   "outputs": [],
   "source": [
    "img1 = torch.randn((1,3, 256, 256))\n",
    "img2 = torch.randn((1, 3, 256, 256))\n",
    "\n",
    "patch_gan = Discriminator(num_channels=3)\n",
    "output = patch_gan(img1, img2)"
   ]
  },
  {
   "cell_type": "code",
   "execution_count": 11,
   "metadata": {
    "metadata": {}
   },
   "outputs": [
    {
     "data": {
      "text/plain": [
       "tensor([[[[ 1.9838e-01, -8.0028e-02,  1.8873e-02,  3.9306e-01,  8.0724e-01,\n",
       "            3.6742e-01, -7.0147e-02,  4.4478e-01, -5.3935e-01,  3.9032e-01,\n",
       "            1.7190e-01, -2.8061e-01,  1.7764e-01,  3.1836e-01,  1.5427e-01],\n",
       "          [ 1.1143e-01,  2.7604e-01,  2.2894e-01, -9.1022e-02, -4.6438e-01,\n",
       "           -2.6418e-01, -1.5430e-01,  3.1231e-01,  5.9658e-01,  5.0102e-02,\n",
       "            2.2623e-01,  4.6633e-01, -2.0086e-01, -2.6046e-01, -2.4412e-01],\n",
       "          [ 6.3771e-01, -2.8400e-01,  4.0167e-01,  5.5317e-01,  2.3813e-01,\n",
       "            6.0196e-03,  2.9869e-01,  4.3105e-01,  4.7958e-01,  2.3751e-01,\n",
       "           -3.8184e-01,  2.9304e-02,  1.9502e-01, -2.5480e-01, -2.5725e-01],\n",
       "          [ 9.1617e-02, -2.0918e-01,  4.7797e-01,  6.8434e-01, -1.8365e-01,\n",
       "           -1.0697e-01, -8.7468e-01,  4.2869e-01, -3.0148e-01,  1.0411e-01,\n",
       "            1.2887e-01,  2.4301e-01,  3.0623e-01,  3.2560e-02, -3.7634e-01],\n",
       "          [-3.6572e-01,  5.0002e-01,  1.4906e-01,  4.7910e-01, -5.0538e-01,\n",
       "            1.8861e-01, -4.2609e-02,  4.2908e-02, -9.5170e-02, -1.2733e-01,\n",
       "           -5.7571e-02,  4.0968e-01, -1.1143e-01, -5.7390e-02,  3.1328e-01],\n",
       "          [-4.1980e-02,  1.6529e-01,  2.9692e-01, -2.9339e-01, -4.1235e-01,\n",
       "           -3.7149e-02,  4.7145e-01, -3.7404e-01, -3.3440e-01,  2.6760e-01,\n",
       "            1.4683e-01, -1.1701e-01, -8.6151e-02, -5.0900e-01,  2.9234e-01],\n",
       "          [ 2.7948e-02, -4.9913e-01,  8.9870e-01,  1.2638e+00, -2.5585e-02,\n",
       "           -6.2290e-01,  7.6083e-02,  4.8117e-01,  2.7654e-02,  6.7934e-01,\n",
       "            2.2258e-01,  3.0114e-01, -1.1976e-01, -1.3402e-01, -9.1180e-02],\n",
       "          [ 6.1532e-01,  3.6756e-01,  2.8585e-01,  2.2820e-01,  1.8578e-01,\n",
       "            3.6153e-02, -1.5792e-01, -5.4541e-01, -2.5758e-01,  3.1651e-01,\n",
       "            4.5791e-02, -8.8488e-03,  5.8253e-01, -6.7270e-01, -3.0219e-02],\n",
       "          [-5.6778e-02, -1.4260e-01,  7.7059e-01,  1.5340e-01,  7.3806e-02,\n",
       "            1.6798e-01, -2.0348e-02,  2.9243e-01,  7.4660e-01,  5.0515e-01,\n",
       "            3.7353e-01,  9.0823e-04, -2.6271e-01, -1.4083e-01,  4.2597e-02],\n",
       "          [ 8.8015e-02, -1.4724e-01, -1.0294e-01,  2.2323e-01,  8.1130e-02,\n",
       "           -1.6954e-01,  4.3842e-01,  4.1532e-01,  3.7250e-01, -3.8377e-01,\n",
       "           -4.4004e-01,  2.4210e-02,  4.7395e-01,  5.7485e-01,  4.1789e-01],\n",
       "          [-3.4927e-01,  6.0012e-01, -3.6474e-01, -2.2979e-01,  8.0530e-01,\n",
       "            2.8699e-01,  3.6107e-01,  3.0303e-01, -1.6005e-01, -1.4002e-01,\n",
       "            5.5660e-01,  9.5102e-02, -1.7725e-01,  7.2365e-01, -2.4210e-01],\n",
       "          [ 5.0057e-01,  3.3439e-01,  1.5777e-01, -2.3391e-01,  3.1770e-01,\n",
       "            1.8434e-01, -8.3248e-01, -6.2605e-01, -1.1263e-02,  6.6947e-01,\n",
       "           -8.2822e-01, -9.2676e-02,  2.1873e-01,  2.9252e-01, -1.2487e-01],\n",
       "          [-2.7445e-02, -4.0787e-01,  6.6258e-01, -4.6990e-01, -1.2847e-01,\n",
       "            1.5288e-02,  6.1473e-02, -3.5361e-01, -1.4192e-01, -5.4272e-01,\n",
       "           -1.3400e-03, -2.6427e-01,  1.1666e-01,  1.6783e-01, -2.4223e-02],\n",
       "          [ 5.2698e-02, -5.6718e-01, -1.5806e-01,  1.3878e-01, -4.2217e-01,\n",
       "           -1.5298e-02,  3.6482e-02, -1.4519e-01,  1.3576e-01,  4.5919e-01,\n",
       "            1.9744e-01, -1.3883e-01,  1.9314e-01,  1.5081e-01,  8.1135e-02],\n",
       "          [-2.5728e-02, -2.4183e-01,  1.9467e-01, -4.5053e-01, -1.0583e-01,\n",
       "            9.8556e-02,  2.2384e-01,  3.6048e-01,  1.6147e-01,  1.4502e-01,\n",
       "            2.6672e-01,  3.1304e-01, -5.3954e-01, -5.0922e-02,  1.4484e-01]]]],\n",
       "       grad_fn=<ConvolutionBackward0>)"
      ]
     },
     "execution_count": 11,
     "metadata": {},
     "output_type": "execute_result"
    }
   ],
   "source": [
    "output"
   ]
  },
  {
   "cell_type": "code",
   "execution_count": null,
   "metadata": {},
   "outputs": [],
   "source": []
  }
 ],
 "metadata": {
  "kernelspec": {
   "display_name": "Python 3",
   "language": "python",
   "name": "python3"
  },
  "language_info": {
   "codemirror_mode": {
    "name": "ipython",
    "version": 3
   },
   "file_extension": ".py",
   "mimetype": "text/x-python",
   "name": "python",
   "nbconvert_exporter": "python",
   "pygments_lexer": "ipython3",
   "version": "3.10.12"
  }
 },
 "nbformat": 4,
 "nbformat_minor": 2
}
